{
  "nbformat": 4,
  "nbformat_minor": 0,
  "metadata": {
    "kernelspec": {
      "display_name": "Python 3",
      "language": "python",
      "name": "python3"
    },
    "language_info": {
      "codemirror_mode": {
        "name": "ipython",
        "version": 3
      },
      "file_extension": ".py",
      "mimetype": "text/x-python",
      "name": "python",
      "nbconvert_exporter": "python",
      "pygments_lexer": "ipython3",
      "version": "3.7.3"
    },
    "colab": {
      "name": "milestone2_new.ipynb",
      "provenance": [],
      "collapsed_sections": []
    }
  },
  "cells": [
    {
      "cell_type": "code",
      "metadata": {
        "id": "GtzUpk_CWZYj"
      },
      "source": [
        "import pandas as pd\n",
        "import numpy as np\n",
        "import seaborn as sn\n",
        "import matplotlib as mpl\n",
        "import matplotlib.pyplot as plt\n",
        "import itertools\n",
        "from sklearn.ensemble import AdaBoostClassifier\n",
        "from sklearn.ensemble import GradientBoostingClassifier\n",
        "from sklearn.datasets import make_classification\n",
        "from sklearn.model_selection import train_test_split\n",
        "from sklearn.preprocessing import LabelEncoder\n",
        "from sklearn.metrics import accuracy_score\n",
        "import pickle\n",
        "from sklearn.metrics import confusion_matrix\n",
        "from sklearn import metrics\n"
      ],
      "execution_count": 14,
      "outputs": []
    },
    {
      "cell_type": "code",
      "metadata": {
        "id": "LM8lUpK0bqTt"
      },
      "source": [
        "def data_process(file_name):\n",
        "  data = pd.read_csv(file_name)\n",
        "\n",
        "  original_len = len(data)\n",
        "  dataset = data.dropna()      #about 100,000 rows\n",
        "  #dataset = data.sample(n=100000)\n",
        "  after_len = len(dataset) \n",
        "  data_loss = (original_len - after_len)/original_len*100\n",
        "  print(\"Data loss:\",data_loss,\"%\")\n",
        "  return dataset"
      ],
      "execution_count": 15,
      "outputs": []
    },
    {
      "cell_type": "code",
      "metadata": {
        "id": "dK13jXrFc2ck"
      },
      "source": [
        "def convert_to_numeric(dataset):\n",
        "  lb_make = LabelEncoder()\n",
        "  dataset['sex'] = lb_make.fit_transform(dataset['sex'])                  #convert each att to numerical values\n",
        "  dataset['province'] = lb_make.fit_transform(dataset['province'])\n",
        "  dataset['country'] = lb_make.fit_transform(dataset['country'])\n",
        "  dataset['country'] = lb_make.fit_transform(dataset['country'])\n",
        "  dataset['date_confirmation'] = lb_make.fit_transform(dataset['date_confirmation'])\n",
        "  dataset['outcome'] = lb_make.fit_transform(dataset['outcome'])\n",
        "  return dataset"
      ],
      "execution_count": 24,
      "outputs": []
    },
    {
      "cell_type": "code",
      "metadata": {
        "scrolled": true,
        "id": "i82yiCngWZYk"
      },
      "source": [
        "# test_data = dataset.sample(frac=0.2)\n",
        "# test_data\n",
        "# train_data = dataset.drop(test_data.index)\n",
        "# train_data\n",
        "# temp = train_data.groupby(['outcome']).count()\n",
        "# temp"
      ],
      "execution_count": null,
      "outputs": []
    },
    {
      "cell_type": "code",
      "metadata": {
        "id": "esGpxl7YeMIq"
      },
      "source": [
        "def create_att(dataset):\n",
        "  label = dataset.iloc[:,7]                   # create different labes accroding to \"outcome\"\n",
        "  dataset = dataset.drop(['outcome'], axis=1)         \n",
        "  dataset['label'] = label                    # append label\n",
        "  x = dataset.iloc[:,0:13]                    #X:df without label\n",
        "  y = dataset.iloc[:,13]\n",
        "  return x, y "
      ],
      "execution_count": 32,
      "outputs": []
    },
    {
      "cell_type": "code",
      "metadata": {
        "id": "c2NDUUjigWP2"
      },
      "source": [
        "def create_Ada_model(x,y):\n",
        "  X_train, X_test, y_train, y_test = train_test_split(x, y, test_size=0.2, random_state=0)\n",
        "  adaModel = AdaBoostClassifier(n_estimators=150,learning_rate = 0.1, random_state=0)     #tune lr to 0.1 and iteration to 150\n",
        "  model = adaModel.fit(X_train,y_train)\n",
        "  filename = 'ada_classifier.pkl'\n",
        "  pickle.dump(model, open(filename, 'wb'))      # save the model to disk\n",
        "  loaded_model = pickle.load(open(filename, 'rb'))  #load model from disk\n",
        "  test_result = loaded_model.score(X_test, y_test)  # show training and testting set accuracy\n",
        "  train_result = loaded_model.score(X_train, y_train)\n",
        "  print(\"test accuracy\",test_result)\n",
        "  print(\"train accuracy\",train_result)\n",
        "  y_pred = model.predict(X_test)\n",
        "  matrix = confusion_matrix(y_test, y_pred)\n",
        "  return matrix"
      ],
      "execution_count": 26,
      "outputs": []
    },
    {
      "cell_type": "code",
      "metadata": {
        "id": "-F5neiYwkgj2"
      },
      "source": [
        "def plot_confusion_matrix(cm, classes,\n",
        "                          normalize=False,\n",
        "                          title='Confusion matrix',\n",
        "                          cmap=plt.cm.Blues):\n",
        "    \"\"\"\n",
        "    This function prints and plots the confusion matrix.\n",
        "    Normalization can be applied by setting `normalize=True`.\n",
        "    \"\"\"\n",
        "    if normalize:\n",
        "        cm = cm.astype('float') / cm.sum(axis=1)[:, np.newaxis]\n",
        "        print(\"Normalized confusion matrix\")\n",
        "    else:\n",
        "        print('Confusion matrix, without normalization')\n",
        "\n",
        "    print(cm)\n",
        "\n",
        "    plt.imshow(cm, interpolation='nearest', cmap=cmap)\n",
        "    plt.title(title)\n",
        "    plt.colorbar()\n",
        "    tick_marks = np.arange(len(classes))\n",
        "    plt.xticks(tick_marks, classes, rotation=45)\n",
        "    plt.yticks(tick_marks, classes)\n",
        "\n",
        "    fmt = '.2f' if normalize else 'd'\n",
        "    thresh = cm.max() / 2.\n",
        "    for i, j in itertools.product(range(cm.shape[0]), range(cm.shape[1])):\n",
        "        plt.text(j, i, format(cm[i, j], fmt),\n",
        "                 horizontalalignment=\"center\",\n",
        "                 color=\"white\" if cm[i, j] > thresh else \"black\")\n",
        "\n",
        "    plt.ylabel('True label')\n",
        "    plt.xlabel('Predicted label')\n",
        "    plt.tight_layout()"
      ],
      "execution_count": 27,
      "outputs": []
    },
    {
      "cell_type": "code",
      "metadata": {
        "id": "6c-rLGjXjvXE"
      },
      "source": [
        "def visual(cm):\n",
        "  labels=[ \"deceased\",\"hospitalized\",\"nonhospitalized\", \"recovered\"]\n",
        "  plot_confusion_matrix(cm, labels,\n",
        "                          normalize=False,\n",
        "                          title='Confusion matrix',\n",
        "                          cmap=plt.cm.Blues)\n"
      ],
      "execution_count": 28,
      "outputs": []
    },
    {
      "cell_type": "code",
      "metadata": {
        "id": "POEILV5plLMZ"
      },
      "source": [
        "def create_XGB_model(x,y):\n",
        "  X_train, X_test, y_train, y_test = train_test_split(x, y, test_size=0.2, random_state=0)\n",
        "  XGBModel = GradientBoostingClassifier(n_estimators=150,learning_rate = 0.1, random_state=0)     #tune lr to 0.1 and iteration to 150\n",
        "  #XGBModel = GradientBoostingClassifier()\n",
        "  model = XGBModel.fit(X_train,y_train)\n",
        "  filename = 'xgb_classifier.pkl'\n",
        "  pickle.dump(model, open(filename, 'wb'))      # save the model to disk\n",
        "  loaded_model = pickle.load(open(filename, 'rb'))  #load model from disk\n",
        "  test_result = loaded_model.score(X_test, y_test)  # show training and testting set accuracy\n",
        "  train_result = loaded_model.score(X_train, y_train)\n",
        "  print(\"test accuracy\",test_result)\n",
        "  print(\"train accuracy\",train_result)\n",
        "  y_pred = model.predict(X_test)\n",
        "  matrix = confusion_matrix(y_test, y_pred)\n",
        "  return matrix"
      ],
      "execution_count": 44,
      "outputs": []
    },
    {
      "cell_type": "code",
      "metadata": {
        "id": "11nGTT6fkExL",
        "colab": {
          "base_uri": "https://localhost:8080/"
        },
        "outputId": "556504fb-d35b-4e23-cdfd-7e053fe8b468"
      },
      "source": [
        "data_processed = data_process('result.csv')\n",
        "data_numeric = convert_to_numeric(data_processed)\n",
        "\n",
        "x, y  = create_att(data_numeric)"
      ],
      "execution_count": 42,
      "outputs": [
        {
          "output_type": "stream",
          "text": [
            "Data loss: 0.0 %\n"
          ],
          "name": "stdout"
        }
      ]
    },
    {
      "cell_type": "code",
      "metadata": {
        "colab": {
          "base_uri": "https://localhost:8080/",
          "height": 416
        },
        "id": "EwgykB12ksoK",
        "outputId": "a3903ee3-eac7-4543-c05e-ea51ad2f81c0"
      },
      "source": [
        "ada_matrix = create_Ada_model(x,y)\n",
        "visual(ada_matrix)"
      ],
      "execution_count": 34,
      "outputs": [
        {
          "output_type": "stream",
          "text": [
            "test accuracy 0.7980922244809728\n",
            "train accuracy 0.7992852724266473\n",
            "Confusion matrix, without normalization\n",
            "[[    0  1016    63   111]\n",
            " [    0 40555    71     0]\n",
            " [    0     4 45822  1455]\n",
            " [    0 18796   434   386]]\n"
          ],
          "name": "stdout"
        },
        {
          "output_type": "display_data",
          "data": {
            "image/png": "[encoded data removed]",
            "text/plain": [
              "<Figure size 432x288 with 2 Axes>"
            ]
          },
          "metadata": {
            "tags": [],
            "needs_background": "light"
          }
        }
      ]
    },
    {
      "cell_type": "code",
      "metadata": {
        "scrolled": true,
        "colab": {
          "base_uri": "https://localhost:8080/",
          "height": 416
        },
        "id": "kiDNLU8MWZYl",
        "outputId": "ec8ca86a-4fdb-4090-bd8d-a5a4cd605570"
      },
      "source": [
        "xgb_matrix = create_XGB_model(x,y)\n",
        "visual(xgb_matrix)"
      ],
      "execution_count": 45,
      "outputs": [
        {
          "output_type": "stream",
          "text": [
            "test accuracy 0.8538537249454987\n",
            "train accuracy 0.8544949879383973\n",
            "Confusion matrix, without normalization\n",
            "[[   43   933   123    91]\n",
            " [    6 38918    28  1674]\n",
            " [   18    15 47200    48]\n",
            " [   17 12313   622  6664]]\n"
          ],
          "name": "stdout"
        },
        {
          "output_type": "display_data",
          "data": {
            "image/png": "[encoded data removed]",
            "text/plain": [
              "<Figure size 432x288 with 2 Axes>"
            ]
          },
          "metadata": {
            "tags": [],
            "needs_background": "light"
          }
        }
      ]
    },
    {
      "cell_type": "code",
      "metadata": {
        "scrolled": true,
        "id": "BImVs2dJWZYl"
      },
      "source": [
        ""
      ],
      "execution_count": null,
      "outputs": []
    },
    {
      "cell_type": "code",
      "metadata": {
        "id": "pf1FaBuqWZYl"
      },
      "source": [
        ""
      ],
      "execution_count": null,
      "outputs": []
    },
    {
      "cell_type": "code",
      "metadata": {
        "scrolled": true,
        "id": "Kcq8BhDmWZYl"
      },
      "source": [
        ""
      ],
      "execution_count": null,
      "outputs": []
    },
    {
      "cell_type": "code",
      "metadata": {
        "id": "fLsnBEJKWZYl"
      },
      "source": [
        ""
      ],
      "execution_count": null,
      "outputs": []
    },
    {
      "cell_type": "code",
      "metadata": {
        "id": "d7UCInNiWZYl"
      },
      "source": [
        ""
      ],
      "execution_count": null,
      "outputs": []
    }
  ]
}